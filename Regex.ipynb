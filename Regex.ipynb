{
 "cells": [
  {
   "cell_type": "markdown",
   "metadata": {},
   "source": [
    "## RegEx - Regular Expression\n",
    "Regex are sequence of characters. They are used to search and match any pattern. \n",
    "\n",
    "Python module <b>\"re\"</b> is used.\n",
    "\n",
    "For more refer: https://docs.python.org/3/library/re.html"
   ]
  },
  {
   "cell_type": "markdown",
   "metadata": {},
   "source": [
    "### Patterns\n",
    "\n",
    "<br>\n",
    "<div style=\"display:flex; justify-content: flex-end;\"> \n",
    "    <img src=\"./patterns.png\" style=\"margin-left:0 !important;\">\n",
    "</div>"
   ]
  },
  {
   "cell_type": "markdown",
   "metadata": {},
   "source": [
    "### Sets\n",
    "\n",
    "<b>[ ]</b>  |   Contains a set of characters to match. The string or pattern to be matched is provided within the brackets<br>\n",
    "&emsp;   <i>e.g.,  Pattern: [abc] <br>\n",
    "&emsp;          Expression: [abc]<br>\n",
    "&emsp;          Input string: abcde<br>\n",
    "&emsp;          Matches: 1 (matches \"abc\")</i><br>\n",
    "\n",
    "<b>[amk]</b> | Characters can be listed individually, e.g. [amk] will match 'a', 'm', or 'k'.\n",
    "\n",
    "<b>[a-z]</b> | Matches any alphabet from a to z.<br>\n",
    "&emsp;   <i>e.g., Pattern: [a-e]<br>\n",
    "&emsp;          Expression: [a-e]<br>\n",
    "&emsp;          Input string: Hai<br>\n",
    "&emsp;          Matches: 1 (matches \"a\")</i><br>\n",
    "\n",
    "<b>[a\\-z]</b> | Matches a, -, or z. It matches - because \\ escapes it.\n",
    "\n",
    "<b>[a-]</b> | Matches a or -, because - is not being used to indicate a series of characters.\n",
    "\n",
    "<b>[-a]</b> | As above, matches a or -.\n",
    "\n",
    "<b>[a-z0-9]</b> | Matches characters from a to z and also from 0 to 9.\n",
    "\n",
    "<b>[0-5][0-9]</b> | Will match all the two-digits numbers from 00 to 59.\n",
    "\n",
    "<b>[(+*)]</b> | Special characters become literal inside a set, so this matches (, +, *, and ).\n",
    "\n",
    "<b>[^ab5]</b> | Adding ^ excludes any character in the set. Here, it matches characters that are not a, b, or 5.\n",
    "\n",
    "<b>\" * \"</b>  Asterisk | Matches zero or more occurences of any pattern <br>\n",
    "\n",
    "<b>\" + \"</b>  Plus | Matches one or more occurences of any pattern"
   ]
  },
  {
   "cell_type": "markdown",
   "metadata": {},
   "source": [
    "### Special characters in RegEx\n",
    "\n",
    "^ | Matches the expression to its right at the start of a string. It matches every such instance before each \\n in the string.\n",
    "\n",
    "$ | Matches the expression to its left at the end of a string. It matches every such instance before each \\n in the string.\n",
    "\n",
    ". | Matches any character except line terminators like \\n.\n",
    "\n",
    "\\ | Escapes special characters or denotes character classes. Regular expressions use the backslash character ('\\') to indicate special forms or to allow special characters to be used without invoking their special meaning.\n",
    "\n",
    "A|B | Matches expression A or B. If A is matched first, B is left untried.\n",
    "\n",
    "? | Matches the expression to its left 0 or 1 times. \n",
    "\n",
    "{m} | Matches the expression to its left m times, and not less.\n",
    "\n",
    "{m, n} | Matches the expression to its left m to n times, and not less.\n",
    "\n",
    "{m, n}? | Matches the expression to its left m times, and ignores n. "
   ]
  },
  {
   "cell_type": "markdown",
   "metadata": {},
   "source": [
    "### Character classes\n",
    "\n",
    "\\w | Matches alphanumeric characters, which means a-z, A-Z, and 0-9. It also matches the underscore, _.\n",
    "\n",
    "\\d | Matches digits, which means [0-9].\n",
    "\n",
    "\\D | Matches any non-decimal digits, which means [^0-9].\n",
    "\n",
    "\\s | Matches whitespace characters, which include the \\t, \\n, \\r, and space characters.\n",
    "\n",
    "\\b | Matches the boundary (or empty string) at the start and end of a word, that is, between \\w and \\W.\n",
    "\n",
    "\\B | Matches the empty string, but only when it is not at the beginning or end of a word. <br>\n",
    "> - e.g., r'py\\B' matches 'python', 'py3', 'py2', but not 'py', 'py.', or 'py!'\n",
    "\n",
    "\\A | Matches the expression to its right at the absolute start of a string whether in single or multi-line mode. (^)\n",
    "\n",
    "\\Z | Matches the expression to its left at the absolute end of a string whether in single or multi-line mode. ($)\n"
   ]
  },
  {
   "cell_type": "markdown",
   "metadata": {},
   "source": [
    "### Groups\n",
    "\n",
    "( ) | Matches the expression inside the parentheses and groups it.\n",
    "\n",
    "(? ) | Inside parentheses like this, ? acts as an extension notation. Its meaning depends on the character immediately to its right. (?) alone doesn't make sense. This is used to include inline flags like (?a), (?x), (?m) etc.\n",
    "\n",
    "(?P<name>AB) | Matches the expression AB, and it can be accessed with the group name. <br>\n",
    "   > - e.g., (?P<username>.*) The match object generated by this expression can be accessed using its name \"username\". <br>\n",
    "   > - Method of accessing - matchObj.group('username')\n",
    "\n",
    "(?:A) | Matches the expression as represented by A, but unlike (?P<name>AB), it cannot be retrieved afterwards.\n",
    "    \n",
    "(?=...) | Matches if ... matches next, but doesn’t consume any of the string. \n",
    "\n",
    "> - e.g., Isaac (?=Asimov) will match 'Isaac ' only if it’s followed by 'Asimov' "
   ]
  },
  {
   "cell_type": "markdown",
   "metadata": {},
   "source": [
    "### Flags \n",
    "\n",
    "i — Ignore case (case insensitive) <br>\n",
    "m — Multi-line matching<br>\n",
    "s — Matches all<br>\n",
    "x — Verbose<br>"
   ]
  },
  {
   "cell_type": "markdown",
   "metadata": {},
   "source": [
    "### Operations using RegExp"
   ]
  },
  {
   "cell_type": "markdown",
   "metadata": {},
   "source": [
    "##### 1. Union Operation:\n",
    "\n",
    "Using OR operator (||). This operator performs conditional checking of any one of the patterns that occure in the string.\n",
    "\n",
    "e.g., [0 || [^\\W]] -> matches a value that can be a numeric 0 or a non numeric word"
   ]
  },
  {
   "cell_type": "markdown",
   "metadata": {},
   "source": [
    "##### 2. Intersection operation\n",
    "\n",
    "Using AND operator (&&). Performs conditional checking of the occurences of all patterns present in the string.\n",
    "\n",
    "e.g., [ [^abc] && [xyz$]] -> matches a string that starts with pattern abc and ends with pattern xyz"
   ]
  },
  {
   "cell_type": "markdown",
   "metadata": {},
   "source": [
    "##### 3. Difference operation\n",
    "\n",
    "Subtraction operator (-) is used. This operator performs subtraction of the occurences of the patterns between the character classes.\n",
    "\n",
    "e.g., [[a-z] - [aeiou]] -> used to match all consonants"
   ]
  },
  {
   "cell_type": "markdown",
   "metadata": {},
   "source": [
    "### Methods in \"re\""
   ]
  },
  {
   "cell_type": "code",
   "execution_count": 3,
   "metadata": {},
   "outputs": [],
   "source": [
    "import re"
   ]
  },
  {
   "cell_type": "markdown",
   "metadata": {},
   "source": [
    "<h3><u>re.compile</u>()</h3> \n",
    "\n",
    "- generates a pattern object (i.e., regex object)\n",
    "- reusable\n",
    "- Syntax: patternObject = re.compile(pattern, flags)\n",
    "-\n",
    "    Flags: <br>\n",
    "    &emsp;&emsp; <b>re.I, re.IGNORECASE:</b> Corresponds to the inline flag (?i)<br>\n",
    "    &emsp;&emsp; <b>re.M, re.MULTILINE:</b> Corresponds to the inline flag (?m)<br>\n",
    "    &emsp;&emsp; <b>re.S, re.DOTALL:</b> Corresponds to the inline flag (?s) <br>\n",
    "    &emsp;&emsp; <b>re.X, re.VERBOSE:</b> Allows you to write regular expressions that look nicer and are more readable by allowing you to visually separate logical sections of the pattern and add comments. Corresponds to the inline flag (?x). <br>  "
   ]
  },
  {
   "cell_type": "code",
   "execution_count": 2,
   "metadata": {},
   "outputs": [],
   "source": [
    "matchObject = re.compile(r\"\\d+\\.\\d*\")"
   ]
  },
  {
   "cell_type": "markdown",
   "metadata": {},
   "source": [
    "<h3><u>re.search</u>()</h3> \n",
    "\n",
    "- Scan through string looking for the first location where the regular expression pattern produces a match, and return a corresponding match object.\n",
    "- Returns None if no position in the string matches the pattern\n",
    "- Checks all lines of input string\n",
    "- Syntax: re.search(pattern, string, flags)"
   ]
  },
  {
   "cell_type": "code",
   "execution_count": 3,
   "metadata": {},
   "outputs": [
    {
     "data": {
      "text/plain": [
       "<re.Match object; span=(0, 3), match='ari'>"
      ]
     },
     "execution_count": 3,
     "metadata": {},
     "output_type": "execute_result"
    }
   ],
   "source": [
    "re.search(\"ari\", \"arizona\") # match exists"
   ]
  },
  {
   "cell_type": "code",
   "execution_count": 4,
   "metadata": {},
   "outputs": [],
   "source": [
    "re.search(\"ari\", \"python\") # match doesnot exist --> returns None"
   ]
  },
  {
   "cell_type": "code",
   "execution_count": 5,
   "metadata": {},
   "outputs": [
    {
     "name": "stdout",
     "output_type": "stream",
     "text": [
      "No match\n"
     ]
    }
   ],
   "source": [
    "# Actual usage\n",
    "if re.search(\"ari\", \"python\"):\n",
    "    print(\"Match exists\")\n",
    "else:\n",
    "    print(\"No match\")"
   ]
  },
  {
   "cell_type": "markdown",
   "metadata": {},
   "source": [
    "<h3><u>re.match</u>()</h3> \n",
    "\n",
    "- search the regular expression pattern and return the first occurrence.\n",
    "\n",
    "- checks for a match only at the beginning of the string. So, if a match is found in the first line, it returns the match object. \n",
    "\n",
    "- returns null if a match is found in some other line\n",
    "\n",
    "- Syntax: re.match(pattern, string, flags)"
   ]
  },
  {
   "cell_type": "code",
   "execution_count": 6,
   "metadata": {},
   "outputs": [],
   "source": [
    "re.match(\"ari\", \"carry\") # doesnot match"
   ]
  },
  {
   "cell_type": "code",
   "execution_count": 7,
   "metadata": {},
   "outputs": [
    {
     "data": {
      "text/plain": [
       "<re.Match object; span=(0, 3), match='ari'>"
      ]
     },
     "execution_count": 7,
     "metadata": {},
     "output_type": "execute_result"
    }
   ],
   "source": [
    "re.match(\"ari\", \"arizona\") # matches since the string starts with \"ari\""
   ]
  },
  {
   "cell_type": "code",
   "execution_count": 8,
   "metadata": {},
   "outputs": [
    {
     "data": {
      "text/plain": [
       "<re.Match object; span=(0, 3), match='ARI'>"
      ]
     },
     "execution_count": 8,
     "metadata": {},
     "output_type": "execute_result"
    }
   ],
   "source": [
    "re.match(\"ari\", \"ARIzona\", flags=re.I) # used case insensitive flag"
   ]
  },
  {
   "cell_type": "code",
   "execution_count": 9,
   "metadata": {},
   "outputs": [
    {
     "name": "stdout",
     "output_type": "stream",
     "text": [
      "String doesnt start with given pattern\n"
     ]
    }
   ],
   "source": [
    "# Actual usage\n",
    "if not re.search(\"ari\", \"python\"):\n",
    "    print(\"String doesnt start with given pattern\")\n",
    "else:\n",
    "    print(\"Match found\")"
   ]
  },
  {
   "cell_type": "markdown",
   "metadata": {},
   "source": [
    "<h3><u>re.fullmatch</u>()</h3>\n",
    "\n",
    "- returns match object if whole string matches the pattern\n",
    "- returns None otherwise\n",
    "- Syntax: re.fullmatch(pattern, string, flags)"
   ]
  },
  {
   "cell_type": "code",
   "execution_count": 10,
   "metadata": {},
   "outputs": [],
   "source": [
    "re.fullmatch(\"py\", \"python\")"
   ]
  },
  {
   "cell_type": "code",
   "execution_count": 11,
   "metadata": {},
   "outputs": [
    {
     "data": {
      "text/plain": [
       "<re.Match object; span=(0, 2), match='py'>"
      ]
     },
     "execution_count": 11,
     "metadata": {},
     "output_type": "execute_result"
    }
   ],
   "source": [
    "re.fullmatch(\"py\", \"py\")  # pattern matches whole input string"
   ]
  },
  {
   "cell_type": "markdown",
   "metadata": {},
   "source": [
    "<h3><u>re.split</u>()</h3>\n",
    "\n",
    "- Split string by the occurrences of pattern. e.g., re.split(\",\", \"house name, city name\")\n",
    "-  If capturing parentheses are used in pattern, then the text of all groups in the pattern are also returned as part of the resulting list. e.g., re.split(\"(name)\", \"house name, city name\")\n",
    "- Syntax: re.split(pattern, string, maxsplit=0, flags)"
   ]
  },
  {
   "cell_type": "code",
   "execution_count": 12,
   "metadata": {},
   "outputs": [
    {
     "data": {
      "text/plain": [
       "['house name', ' city name']"
      ]
     },
     "execution_count": 12,
     "metadata": {},
     "output_type": "execute_result"
    }
   ],
   "source": [
    "re.split(\",\", \"house name, city name\") #splits at \",\""
   ]
  },
  {
   "cell_type": "code",
   "execution_count": 13,
   "metadata": {},
   "outputs": [
    {
     "data": {
      "text/plain": [
       "['house ', 'name', ', city ', 'name', '']"
      ]
     },
     "execution_count": 13,
     "metadata": {},
     "output_type": "execute_result"
    }
   ],
   "source": [
    "re.split(\"(name)\", \"house name, city name\") #splits at \"name\""
   ]
  },
  {
   "cell_type": "markdown",
   "metadata": {},
   "source": [
    "<h3><u>re.findall</u>()</h3>\n",
    "\n",
    "- match all the string data that matches regex\n",
    "- string is scanned left-to-right, and matches are returned in the order found\n",
    "- Syntax: re.findall(pattern, string, flags)"
   ]
  },
  {
   "cell_type": "code",
   "execution_count": 14,
   "metadata": {},
   "outputs": [
    {
     "data": {
      "text/plain": [
       "['ri', 'ri']"
      ]
     },
     "execution_count": 14,
     "metadata": {},
     "output_type": "execute_result"
    }
   ],
   "source": [
    "re.findall(\"ri\", \"richie rich\")"
   ]
  },
  {
   "cell_type": "markdown",
   "metadata": {},
   "source": [
    "<h3><u>re.sub</u>()</h3>\n",
    "\n",
    "- substitutes the provided data string when the pattern matches with an appropriate replacement pattern\n",
    "- if the pattern isn’t found, string is returned unchanged\n",
    "- Syntax: re.sub(pattern, replacement, string, count, flags)"
   ]
  },
  {
   "cell_type": "code",
   "execution_count": 15,
   "metadata": {},
   "outputs": [
    {
     "data": {
      "text/plain": [
       "'Ma REPLACEMENT e in Country'"
      ]
     },
     "execution_count": 15,
     "metadata": {},
     "output_type": "execute_result"
    }
   ],
   "source": [
    "re.sub(\"d\", \" REPLACEMENT \", \"Made in Country\")"
   ]
  },
  {
   "cell_type": "code",
   "execution_count": 16,
   "metadata": {},
   "outputs": [
    {
     "data": {
      "text/plain": [
       "'Ma REPLACEMENT e in  REPLACEMENT owntown'"
      ]
     },
     "execution_count": 16,
     "metadata": {},
     "output_type": "execute_result"
    }
   ],
   "source": [
    "re.sub(\"d\", \" REPLACEMENT \", \"Made in Downtown\", flags=re.I) # flag applied"
   ]
  },
  {
   "cell_type": "code",
   "execution_count": 17,
   "metadata": {},
   "outputs": [
    {
     "data": {
      "text/plain": [
       "'Ma REPLACEMENT e in Downtown'"
      ]
     },
     "execution_count": 17,
     "metadata": {},
     "output_type": "execute_result"
    }
   ],
   "source": [
    "re.sub(\"d\", \" REPLACEMENT \", \"Made in Downtown\", 1, flags=re.I) # replace 1"
   ]
  },
  {
   "cell_type": "code",
   "execution_count": 18,
   "metadata": {},
   "outputs": [
    {
     "data": {
      "text/plain": [
       "'Made in Country'"
      ]
     },
     "execution_count": 18,
     "metadata": {},
     "output_type": "execute_result"
    }
   ],
   "source": [
    "re.sub(\"x\", \" REPLACEMENT \", \"Made in Country\") # no match"
   ]
  },
  {
   "cell_type": "markdown",
   "metadata": {},
   "source": [
    "### Match Object\n",
    "\n",
    "Match object can be processed in the following ways:"
   ]
  },
  {
   "cell_type": "code",
   "execution_count": 4,
   "metadata": {},
   "outputs": [],
   "source": [
    "matchObject = re.search(\"pattern\", \"patterns are amazing\")"
   ]
  },
  {
   "cell_type": "markdown",
   "metadata": {},
   "source": [
    "- match.group() : returns portion of the string that matches the pattern"
   ]
  },
  {
   "cell_type": "code",
   "execution_count": 5,
   "metadata": {},
   "outputs": [
    {
     "data": {
      "text/plain": [
       "'pattern'"
      ]
     },
     "execution_count": 5,
     "metadata": {},
     "output_type": "execute_result"
    }
   ],
   "source": [
    "matchObject.group()"
   ]
  },
  {
   "cell_type": "markdown",
   "metadata": {},
   "source": [
    "- match.start(): returns the starting index of matched pattern"
   ]
  },
  {
   "cell_type": "code",
   "execution_count": 6,
   "metadata": {},
   "outputs": [
    {
     "data": {
      "text/plain": [
       "0"
      ]
     },
     "execution_count": 6,
     "metadata": {},
     "output_type": "execute_result"
    }
   ],
   "source": [
    "matchObject.start()"
   ]
  },
  {
   "cell_type": "markdown",
   "metadata": {},
   "source": [
    "- match.end(): returns the ending index of matched pattern"
   ]
  },
  {
   "cell_type": "code",
   "execution_count": 7,
   "metadata": {},
   "outputs": [
    {
     "data": {
      "text/plain": [
       "7"
      ]
     },
     "execution_count": 7,
     "metadata": {},
     "output_type": "execute_result"
    }
   ],
   "source": [
    "matchObject.end()"
   ]
  },
  {
   "cell_type": "markdown",
   "metadata": {},
   "source": [
    "- match.span(): returns starting and ending index of the matched pattern"
   ]
  },
  {
   "cell_type": "code",
   "execution_count": 8,
   "metadata": {},
   "outputs": [
    {
     "data": {
      "text/plain": [
       "(0, 7)"
      ]
     },
     "execution_count": 8,
     "metadata": {},
     "output_type": "execute_result"
    }
   ],
   "source": [
    "matchObject.span()"
   ]
  }
 ],
 "metadata": {
  "kernelspec": {
   "display_name": "Python 3",
   "language": "python",
   "name": "python3"
  },
  "language_info": {
   "codemirror_mode": {
    "name": "ipython",
    "version": 3
   },
   "file_extension": ".py",
   "mimetype": "text/x-python",
   "name": "python",
   "nbconvert_exporter": "python",
   "pygments_lexer": "ipython3",
   "version": "3.7.9"
  }
 },
 "nbformat": 4,
 "nbformat_minor": 4
}
