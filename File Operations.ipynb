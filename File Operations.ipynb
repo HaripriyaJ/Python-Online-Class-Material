{
 "cells": [
  {
   "cell_type": "markdown",
   "metadata": {},
   "source": [
    "### Files\n",
    "\n",
    "- Python allows us to create, read, update/edit, and delete files. Files are handled as text (default) or binary (for images).\n",
    "- As in any language there are file object reference is created in order to perform file operations.\n",
    "- File object points to the file that is being accessed. This has attributes like closed, mode, name etc."
   ]
  },
  {
   "cell_type": "markdown",
   "metadata": {},
   "source": [
    "### File Access Modes\n",
    "\n",
    "A file can be accessed in various modes and the method chosen will determine the position of the file pointer. The various modes are:\n",
    "\n",
    "1. r - opens file in read-only mode\n",
    "2. r+ - opens file in read and write mode\n",
    "3. rb - opens file in read-only mode in binary format\n",
    "4. rb+ - opens file for reading and writing in binary format\n",
    "5. w - opens a file in writing-only mode. This may overwrite the previous content if the file exists else, creates a new file.\n",
    "6. w+ - opens a file for reading and writing. This may overwrite the previous content if the file exists else create a new file to read and write\n",
    "7. wb - opens a file in write-only mode in binary format. This may overwrite the previous content if the file exists else, creates a new file.\n",
    "8. wb+ - opens a file for reading and writing in binary format. This may overwrite the previous content if the file exists else, creates a new file.\n",
    "9. a - opens a file for appending the data. This adds the data to the end of the file (if it exists). If the specified file doesn't exist, a new file created.\n",
    "10. a+ - opens a file for appending and reading. If the specified file doesn't exist, a new file created.\n",
    "11. ab - opens a file for appending the data in binary format. If the specified file doesn't exist, a new file created.\n",
    "12. ab+ - opens a file for appending and reading in bianry format. If the specified file doesn't exist, a new file created.\n",
    "13. x - creates a specified file, returns error if it already exisits"
   ]
  },
  {
   "cell_type": "markdown",
   "metadata": {},
   "source": [
    "### File create \n",
    "Access mode \"x\"\n",
    "\n",
    "NOTE: <i> Make sure a file named \"python_file_1.txt\" exists before opening in read mode </i>"
   ]
  },
  {
   "cell_type": "code",
   "execution_count": 1,
   "metadata": {},
   "outputs": [
    {
     "ename": "FileExistsError",
     "evalue": "[Errno 17] File exists: 'python_file_1.txt'",
     "output_type": "error",
     "traceback": [
      "\u001b[1;31m---------------------------------------------------------------------------\u001b[0m",
      "\u001b[1;31mFileExistsError\u001b[0m                           Traceback (most recent call last)",
      "\u001b[1;32m<ipython-input-1-7775d6cb8522>\u001b[0m in \u001b[0;36m<module>\u001b[1;34m\u001b[0m\n\u001b[1;32m----> 1\u001b[1;33m \u001b[0mf\u001b[0m \u001b[1;33m=\u001b[0m \u001b[0mopen\u001b[0m\u001b[1;33m(\u001b[0m\u001b[1;34m\"python_file_1.txt\"\u001b[0m\u001b[1;33m,\u001b[0m \u001b[1;34m\"x\"\u001b[0m\u001b[1;33m)\u001b[0m\u001b[1;33m\u001b[0m\u001b[1;33m\u001b[0m\u001b[0m\n\u001b[0m",
      "\u001b[1;31mFileExistsError\u001b[0m: [Errno 17] File exists: 'python_file_1.txt'"
     ]
    }
   ],
   "source": [
    "f = open(\"python_file_1.txt\", \"x\")"
   ]
  },
  {
   "cell_type": "markdown",
   "metadata": {},
   "source": [
    "### File Open\n",
    "\n",
    "- Syntax: fileObject = open(file_name, access_mode, buffering)\n",
    "    1. file_name : name pf the file being accessed\n",
    "    2. access_mode : in which mode file should be accessed\n",
    "    3. buffering: takes 0 or 1 (optional parameter)\n",
    "- open(), with operator with open() are used to open a file"
   ]
  },
  {
   "cell_type": "markdown",
   "metadata": {},
   "source": [
    "##### Method 1\n",
    "\n",
    "- Using open()\n",
    "- File has to be closed using close operator after use"
   ]
  },
  {
   "cell_type": "code",
   "execution_count": 2,
   "metadata": {},
   "outputs": [],
   "source": [
    "fileObject = open(\"python_file_1.txt\") # by default opens the file in read mode"
   ]
  },
  {
   "cell_type": "code",
   "execution_count": 3,
   "metadata": {},
   "outputs": [],
   "source": [
    "fileObject = open(\"python_file_1.txt\", \"w\") # file in write mode"
   ]
  },
  {
   "cell_type": "markdown",
   "metadata": {},
   "source": [
    "##### Method 2\n",
    "\n",
    "- Using \"with\" operator\n",
    "- File is automatically closed once code leave with block"
   ]
  },
  {
   "cell_type": "code",
   "execution_count": 4,
   "metadata": {},
   "outputs": [],
   "source": [
    "with open(\"python_file_1.txt\", \"a\") as fileObject: # file in append mode\n",
    "    # write file operations\n",
    "    pass"
   ]
  },
  {
   "cell_type": "markdown",
   "metadata": {},
   "source": [
    "### File Close\n",
    "\n",
    "- Syntax: fileObject.close()"
   ]
  },
  {
   "cell_type": "markdown",
   "metadata": {},
   "source": [
    "### File Write"
   ]
  },
  {
   "cell_type": "markdown",
   "metadata": {},
   "source": [
    "#### Using fileObject.write()"
   ]
  },
  {
   "cell_type": "code",
   "execution_count": 5,
   "metadata": {},
   "outputs": [],
   "source": [
    "with open(\"new_file1.txt\", \"w\") as fileObject:\n",
    "    fileObject.write(\"My first file created from within python!!!!\") #writes single line into the file"
   ]
  },
  {
   "cell_type": "markdown",
   "metadata": {},
   "source": [
    "Output:\n",
    "<img src=\"first_file.png\" style=\"margin-left:0 !important\">"
   ]
  },
  {
   "cell_type": "markdown",
   "metadata": {},
   "source": [
    "#### Using fileObject.writelines()"
   ]
  },
  {
   "cell_type": "code",
   "execution_count": 6,
   "metadata": {},
   "outputs": [],
   "source": [
    "with open(\"multiline.txt\", \"w\") as fo:\n",
    "    fo.writelines(['First line\\n', 'Second line\\n', 'third line\\n'])"
   ]
  },
  {
   "cell_type": "markdown",
   "metadata": {},
   "source": [
    "Output:\n",
    "Output:\n",
    "<img src=\"writelines.png\" style=\"margin-left:0 !important\">"
   ]
  },
  {
   "cell_type": "markdown",
   "metadata": {},
   "source": [
    "### File Read"
   ]
  },
  {
   "cell_type": "markdown",
   "metadata": {},
   "source": [
    "#### Using fileobject.read()"
   ]
  },
  {
   "cell_type": "code",
   "execution_count": 7,
   "metadata": {},
   "outputs": [
    {
     "ename": "FileNotFoundError",
     "evalue": "[Errno 2] No such file or directory: 'test.txt'",
     "output_type": "error",
     "traceback": [
      "\u001b[1;31m---------------------------------------------------------------------------\u001b[0m",
      "\u001b[1;31mFileNotFoundError\u001b[0m                         Traceback (most recent call last)",
      "\u001b[1;32m<ipython-input-7-2977e4ace2ca>\u001b[0m in \u001b[0;36m<module>\u001b[1;34m\u001b[0m\n\u001b[1;32m----> 1\u001b[1;33m \u001b[0mfp\u001b[0m \u001b[1;33m=\u001b[0m \u001b[0mopen\u001b[0m\u001b[1;33m(\u001b[0m\u001b[1;34m\"test.txt\"\u001b[0m\u001b[1;33m,\u001b[0m \u001b[1;34m\"r\"\u001b[0m\u001b[1;33m)\u001b[0m \u001b[1;31m# opening a file that does not exist\u001b[0m\u001b[1;33m\u001b[0m\u001b[1;33m\u001b[0m\u001b[0m\n\u001b[0m",
      "\u001b[1;31mFileNotFoundError\u001b[0m: [Errno 2] No such file or directory: 'test.txt'"
     ]
    }
   ],
   "source": [
    "fp = open(\"test.txt\", \"r\") # opening a file that does not exist "
   ]
  },
  {
   "cell_type": "markdown",
   "metadata": {},
   "source": [
    "##### Reading a file that exists"
   ]
  },
  {
   "cell_type": "markdown",
   "metadata": {},
   "source": [
    "File content:\n",
    "<img src=\"second_file.png\" style=\"margin-left:0 !important\">"
   ]
  },
  {
   "cell_type": "code",
   "execution_count": 8,
   "metadata": {},
   "outputs": [],
   "source": [
    "fp = open(\"new_file.txt\", \"r\", encoding=\"utf-8\")"
   ]
  },
  {
   "cell_type": "code",
   "execution_count": 9,
   "metadata": {},
   "outputs": [
    {
     "data": {
      "text/plain": [
       "'1. My first file created from within python!!!!\\n2. My first file created from within python!!!!\\n3. My first file created from within python!!!!\\n4. My first file created from within python!!!!5. My first file created from within python!!!'"
      ]
     },
     "execution_count": 9,
     "metadata": {},
     "output_type": "execute_result"
    }
   ],
   "source": [
    "fp.read() # prints entire file contents"
   ]
  },
  {
   "cell_type": "code",
   "execution_count": 10,
   "metadata": {},
   "outputs": [
    {
     "data": {
      "text/plain": [
       "''"
      ]
     },
     "execution_count": 10,
     "metadata": {},
     "output_type": "execute_result"
    }
   ],
   "source": [
    "fp.read(4) "
   ]
  },
  {
   "cell_type": "code",
   "execution_count": 11,
   "metadata": {},
   "outputs": [],
   "source": [
    "fp = open(\"new_file.txt\", \"r\", encoding=\"utf-8\")"
   ]
  },
  {
   "cell_type": "code",
   "execution_count": 12,
   "metadata": {},
   "outputs": [
    {
     "data": {
      "text/plain": [
       "'1. M'"
      ]
     },
     "execution_count": 12,
     "metadata": {},
     "output_type": "execute_result"
    }
   ],
   "source": [
    "fp.read(4) #reads first 4 characters. File pointer is at 5th position"
   ]
  },
  {
   "cell_type": "code",
   "execution_count": 13,
   "metadata": {},
   "outputs": [
    {
     "data": {
      "text/plain": [
       "'y first file c'"
      ]
     },
     "execution_count": 13,
     "metadata": {},
     "output_type": "execute_result"
    }
   ],
   "source": [
    "fp.read(14)"
   ]
  },
  {
   "cell_type": "code",
   "execution_count": 14,
   "metadata": {},
   "outputs": [
    {
     "data": {
      "text/plain": [
       "'reated from within python!!!!\\n2. My first file created from within python!!!!\\n3. My first file created from within python!!!!\\n4. My first file created from within python!!!!5. My first file created from within python!!!'"
      ]
     },
     "execution_count": 14,
     "metadata": {},
     "output_type": "execute_result"
    }
   ],
   "source": [
    "fp.read()  #notice the way file content is printed"
   ]
  },
  {
   "cell_type": "markdown",
   "metadata": {},
   "source": [
    "#### Using fileobject.readline()"
   ]
  },
  {
   "cell_type": "code",
   "execution_count": 15,
   "metadata": {},
   "outputs": [
    {
     "name": "stdout",
     "output_type": "stream",
     "text": [
      "1. My first file created from within python!!!!\n",
      "\n",
      "2. My first file created from within python!!!!\n",
      "\n",
      "3. My first file created from within python!!!!\n",
      "\n",
      "4. My first file created from within python!!!!5. My first file created from within python!!!\n"
     ]
    }
   ],
   "source": [
    "with open(\"new_file.txt\", \"r\") as fileObject:\n",
    "    for eachLine in fileObject: # iterating through content\n",
    "        print(eachLine)"
   ]
  },
  {
   "cell_type": "code",
   "execution_count": 16,
   "metadata": {},
   "outputs": [
    {
     "name": "stdout",
     "output_type": "stream",
     "text": [
      "1. My first file created from within python!!!!\n",
      "\n"
     ]
    }
   ],
   "source": [
    "with open(\"new_file.txt\", \"r\") as fileObject:\n",
    "    print(fileObject.readline()) # reads a single line"
   ]
  },
  {
   "cell_type": "markdown",
   "metadata": {},
   "source": [
    "#### Using fileobject.readlines()"
   ]
  },
  {
   "cell_type": "code",
   "execution_count": 17,
   "metadata": {},
   "outputs": [
    {
     "name": "stdout",
     "output_type": "stream",
     "text": [
      "['1. My first file created from within python!!!!\\n', '2. My first file created from within python!!!!\\n', '3. My first file created from within python!!!!\\n', '4. My first file created from within python!!!!5. My first file created from within python!!!']\n"
     ]
    }
   ],
   "source": [
    "with open(\"new_file.txt\", \"r\") as fileObject:\n",
    "    print(fileObject.readlines()) # returns list of lines from file"
   ]
  },
  {
   "cell_type": "markdown",
   "metadata": {},
   "source": [
    "### File Cursor / File pointer\n",
    "\n",
    "- A file cursor is used to trach characters in a file individually. \n",
    "- Everytime a charatcer is read, its position is advanced/incremented by 1 (notice that case in the above read() example). \n",
    "- To set or get location of the pointer, seek() or tell() can be used respectively."
   ]
  },
  {
   "cell_type": "code",
   "execution_count": 18,
   "metadata": {},
   "outputs": [
    {
     "data": {
      "text/plain": [
       "240"
      ]
     },
     "execution_count": 18,
     "metadata": {},
     "output_type": "execute_result"
    }
   ],
   "source": [
    "# tell() - returns the position of the cursor\n",
    "fp.tell()"
   ]
  },
  {
   "cell_type": "code",
   "execution_count": 19,
   "metadata": {},
   "outputs": [
    {
     "data": {
      "text/plain": [
       "4"
      ]
     },
     "execution_count": 19,
     "metadata": {},
     "output_type": "execute_result"
    }
   ],
   "source": [
    "#seek - used to move cursor to particular position\n",
    "fp.seek(4)"
   ]
  },
  {
   "cell_type": "code",
   "execution_count": 20,
   "metadata": {},
   "outputs": [
    {
     "data": {
      "text/plain": [
       "4"
      ]
     },
     "execution_count": 20,
     "metadata": {},
     "output_type": "execute_result"
    }
   ],
   "source": [
    "fp.tell()"
   ]
  },
  {
   "cell_type": "code",
   "execution_count": 21,
   "metadata": {},
   "outputs": [
    {
     "data": {
      "text/plain": [
       "'y first file created from within python!!!!\\n2. My first file created from within python!!!!\\n3. My first file created from within python!!!!\\n4. My first file created from within python!!!!5. My first file created from within python!!!'"
      ]
     },
     "execution_count": 21,
     "metadata": {},
     "output_type": "execute_result"
    }
   ],
   "source": [
    "fp.read() # starts reading from position 5 - similar to executing fp.read() after fp.read(4)"
   ]
  },
  {
   "cell_type": "markdown",
   "metadata": {},
   "source": [
    "### File Update\n",
    "\n",
    "Using append mode"
   ]
  },
  {
   "cell_type": "code",
   "execution_count": 22,
   "metadata": {},
   "outputs": [
    {
     "name": "stdout",
     "output_type": "stream",
     "text": [
      "['1. My first file created from within python!!!!\\n', '2. My first file created from within python!!!!\\n', '3. My first file created from within python!!!!\\n', '4. My first file created from within python!!!!5. My first file created from within python!!!']\n"
     ]
    }
   ],
   "source": [
    "with open(\"new_file.txt\", \"r\") as fileObject:\n",
    "    print(fileObject.readlines())"
   ]
  },
  {
   "cell_type": "code",
   "execution_count": 23,
   "metadata": {},
   "outputs": [
    {
     "name": "stdout",
     "output_type": "stream",
     "text": [
      "46\n"
     ]
    }
   ],
   "source": [
    "with open(\"new_file.txt\", \"a\") as fileObject:\n",
    "    print(fileObject.write(\"5. My first file created from within python!!!\"))"
   ]
  },
  {
   "cell_type": "code",
   "execution_count": 24,
   "metadata": {},
   "outputs": [
    {
     "name": "stdout",
     "output_type": "stream",
     "text": [
      "['1. My first file created from within python!!!!\\n', '2. My first file created from within python!!!!\\n', '3. My first file created from within python!!!!\\n', '4. My first file created from within python!!!!5. My first file created from within python!!!5. My first file created from within python!!!']\n"
     ]
    }
   ],
   "source": [
    "with open(\"new_file.txt\", \"r\") as fileObject:\n",
    "    print(fileObject.readlines())"
   ]
  },
  {
   "cell_type": "markdown",
   "metadata": {},
   "source": [
    "### Rename file\n",
    "\n",
    "import os\n",
    "os.rename(current_file_name*, new_file_name)\n",
    "\n",
    "*current_file_name will be a path depending on the context / directory "
   ]
  },
  {
   "cell_type": "markdown",
   "metadata": {},
   "source": [
    "### Delete file\n",
    "\n",
    "import os\n",
    "os.remove(file_name*)\n",
    "\n",
    "*file_name will be a path depending on the context / directory "
   ]
  }
 ],
 "metadata": {
  "kernelspec": {
   "display_name": "Python 3",
   "language": "python",
   "name": "python3"
  },
  "language_info": {
   "codemirror_mode": {
    "name": "ipython",
    "version": 3
   },
   "file_extension": ".py",
   "mimetype": "text/x-python",
   "name": "python",
   "nbconvert_exporter": "python",
   "pygments_lexer": "ipython3",
   "version": "3.7.9"
  }
 },
 "nbformat": 4,
 "nbformat_minor": 4
}
